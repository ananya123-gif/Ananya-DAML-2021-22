{
 "cells": [
  {
   "cell_type": "code",
   "execution_count": 80,
   "metadata": {},
   "outputs": [],
   "source": [
    "#import pandas for getting csv files to be read \n",
    "import pandas as pd"
   ]
  },
  {
   "cell_type": "code",
   "execution_count": 81,
   "metadata": {},
   "outputs": [],
   "source": [
    "#two input files, input file 1 and input file 2.\n",
    "\n",
    "dataset1 = pd.read_csv(\"input1.csv\")\n",
    "dataset2 = pd.read_csv(\"input2.csv\")"
   ]
  },
  {
   "cell_type": "code",
   "execution_count": 82,
   "metadata": {},
   "outputs": [
    {
     "name": "stdout",
     "output_type": "stream",
     "text": [
      "['44', '45', '44', '55/65', ' ', '57/67', '58']\n"
     ]
    }
   ],
   "source": [
    "#Step 1: Extract only numeric values from input 1 received\n",
    "\n",
    "ip1 = pd.DataFrame(dataset1)\n",
    "ip1 = list(ip1[ip1.columns[0]])\n",
    "print(ip1)"
   ]
  },
  {
   "cell_type": "code",
   "execution_count": 83,
   "metadata": {},
   "outputs": [
    {
     "name": "stdout",
     "output_type": "stream",
     "text": [
      "output_array1 :  ['45', '55', '65', '57', '67', '58']\n"
     ]
    }
   ],
   "source": [
    "#Step 2 : Store only unique values from step 1 in an array, name it output array 1\n",
    "\n",
    "num=[]\n",
    "output_array1=[]\n",
    "non_unique_no_del=[]\n",
    "for value in ip1:\n",
    "    if(value.isdigit()):\n",
    "        num.append(value)\n",
    "    if '/' in value:\n",
    "        p=value.index('/')\n",
    "        num.append(value[:p])\n",
    "        num.append(value[p+1:])\n",
    "for i in num:\n",
    "    if(num.count(i)==1):\n",
    "        output_array1.append(i)\n",
    "    else:\n",
    "        non_unique_no_del.append(i)\n",
    "print(\"output_array1 : \",output_array1)"
   ]
  },
  {
   "cell_type": "code",
   "execution_count": 84,
   "metadata": {},
   "outputs": [
    {
     "name": "stdout",
     "output_type": "stream",
     "text": [
      "['44', '45', '44', '59', ' ', '57', '58', '99', '97']\n"
     ]
    }
   ],
   "source": [
    "#Step 3: Extract only numeric values from input 2 received and delete Add-ASR data from the array\n",
    "ip2 = pd.DataFrame(dataset2)\n",
    "lis = list(ip2[ip2.columns[2]])\n",
    "lis2 = list(ip2[ip2.columns[1]])\n",
    "add_asr=[]\n",
    "for i in lis:\n",
    "    if 'Add-ASR'==i:\n",
    "        ip2.drop([lis.index(i)], axis=0, inplace=True)\n",
    "        add_asr.append(lis2[lis.index(i)])\n",
    "\n",
    "after_del = list(ip2[ip2.columns[1]])\n",
    "print(after_del)\n",
    "\n"
   ]
  },
  {
   "cell_type": "code",
   "execution_count": 85,
   "metadata": {},
   "outputs": [
    {
     "name": "stdout",
     "output_type": "stream",
     "text": [
      "temp_array1 : ['45', '59', '57', '58', '99', '97']\n"
     ]
    }
   ],
   "source": [
    "#Step 4: Extract only unique no from step 3, name it temp array1\n",
    "\n",
    "num2=[]\n",
    "temp_array1=[]\n",
    "for value in after_del:\n",
    "    if(value.isdigit()):\n",
    "        num2.append(value)\n",
    "for i in num2:\n",
    "    if(num2.count(i)==1):\n",
    "        temp_array1.append(i)\n",
    "    else:\n",
    "        non_unique_no_del.append(i)\n",
    "print(\"temp_array1 :\",temp_array1)"
   ]
  },
  {
   "cell_type": "code",
   "execution_count": 86,
   "metadata": {},
   "outputs": [
    {
     "name": "stdout",
     "output_type": "stream",
     "text": [
      "output_array2 :  ['59', '97', '99']\n"
     ]
    }
   ],
   "source": [
    "# Step 5: perform temp array1 -output array1, you should get\n",
    "# 59,99,97,\n",
    "# Name this array output array 2.\n",
    "\n",
    "output_array2 = set(temp_array1)-set(output_array1)\n",
    "print(\"output_array2 : \",list(output_array2))"
   ]
  },
  {
   "cell_type": "code",
   "execution_count": 87,
   "metadata": {},
   "outputs": [
    {
     "name": "stdout",
     "output_type": "stream",
     "text": [
      "temp_array2 :  ['67', '65', '55']\n"
     ]
    }
   ],
   "source": [
    "# Step 6: temp array2= output array 1 -temp array 1\n",
    "# 55,65,67\n",
    "\n",
    "temp_array2 = set(output_array1)-set(temp_array1)\n",
    "print(\"temp_array2 : \",list(temp_array2))"
   ]
  },
  {
   "cell_type": "code",
   "execution_count": 88,
   "metadata": {},
   "outputs": [
    {
     "name": "stdout",
     "output_type": "stream",
     "text": [
      "temp_array3 :  ['45', '58', '57']\n"
     ]
    }
   ],
   "source": [
    "# Step 7:temp array 3= temp array 2 -output array 1\n",
    "# 45,57,58\n",
    "\n",
    "temp_array3 = set(output_array1)-set(temp_array2)\n",
    "print(\"temp_array3 : \",list(temp_array3))"
   ]
  },
  {
   "cell_type": "code",
   "execution_count": 89,
   "metadata": {},
   "outputs": [
    {
     "name": "stdout",
     "output_type": "stream",
     "text": [
      "updated_output_array1 :  ['45', '58', '57', '59', '97', '99']\n"
     ]
    }
   ],
   "source": [
    "# Step 8: merge temp array 3 and output array 2, name this array updated output array 1\n",
    "\n",
    "updated_output_array1 = list(temp_array3) + list(output_array2)\n",
    "print(\"updated_output_array1 : \",updated_output_array1)"
   ]
  },
  {
   "cell_type": "code",
   "execution_count": 90,
   "metadata": {},
   "outputs": [
    {
     "name": "stdout",
     "output_type": "stream",
     "text": [
      "output_array3 :  ['67', '65', '55', '44', '44', '44', '44', '98']\n"
     ]
    }
   ],
   "source": [
    "# Step 9: output array 3= temp array 2 + non-unique no deleted+ Add ASR value deleted\n",
    "\n",
    "output_array3=list(temp_array2)+list(non_unique_no_del)+add_asr\n",
    "print(\"output_array3 : \",output_array3)"
   ]
  },
  {
   "cell_type": "code",
   "execution_count": 91,
   "metadata": {},
   "outputs": [
    {
     "name": "stdout",
     "output_type": "stream",
     "text": [
      "updated_output_array1 :  ['45', '58', '57', '59', '97', '99']\n",
      "output_array2 :  ['59', '97', '99']\n",
      "output_array3 :  ['67', '65', '55', '44', '44', '44', '44', '98']\n"
     ]
    }
   ],
   "source": [
    "#ALGORITHM\n",
    "\n",
    "def alogorithm(dataset1,dataset2):\n",
    "    \n",
    "    #Step 1: Extract only numeric values from input 1 received\n",
    "\n",
    "    ip1 = pd.DataFrame(dataset1)\n",
    "    ip1 = list(ip1[ip1.columns[0]])\n",
    "    \n",
    "    #Step 2 : Store only unique values from step 1 in an array, name it output array 1\n",
    "    \n",
    "    num=[]\n",
    "    output_array1=[]\n",
    "    non_unique_no_del=[]\n",
    "    for value in ip1:\n",
    "        if(value.isdigit()):\n",
    "            num.append(value)\n",
    "        if '/' in value:\n",
    "            p=value.index('/')\n",
    "            num.append(value[:p])\n",
    "            num.append(value[p+1:])\n",
    "    for i in num:\n",
    "        if(num.count(i)==1):\n",
    "            output_array1.append(i)\n",
    "        else:\n",
    "            non_unique_no_del.append(i)\n",
    "            \n",
    "    #Step 3: Extract only numeric values from input 2 received and delete Add-ASR data from the array\n",
    "\n",
    "    ip2 = pd.DataFrame(dataset2)\n",
    "    lis = list(ip2[ip2.columns[2]])\n",
    "    lis2 = list(ip2[ip2.columns[1]])\n",
    "    add_asr=[]\n",
    "    for i in lis:\n",
    "        if 'Add-ASR'==i:\n",
    "            ip2.drop([lis.index(i)], axis=0, inplace=True)\n",
    "            add_asr.append(lis2[lis.index(i)])\n",
    "\n",
    "    after_del = list(ip2[ip2.columns[1]])\n",
    "    \n",
    "    #Step 4: Extract only unique no from step 3, name it temp array1\n",
    "    \n",
    "    num2=[]\n",
    "    temp_array1=[]\n",
    "    for value in after_del:\n",
    "        if(value.isdigit()):\n",
    "            num2.append(value)\n",
    "    for i in num2:\n",
    "        if(num2.count(i)==1):\n",
    "            temp_array1.append(i)\n",
    "        else:\n",
    "            non_unique_no_del.append(i)\n",
    "    \n",
    "    # Step 5: perform temp array1 -output array1, you should get 59,99,97, Name this array output array 2.\n",
    "    \n",
    "    output_array2 = set(temp_array1)-set(output_array1)\n",
    "    \n",
    "    # Step 6: temp array2 = output array 1 -temp array 1 = 55,65,67\n",
    "    \n",
    "    temp_array2 = set(output_array1)-set(temp_array1)\n",
    "    \n",
    "    # Step 7:temp array 3 = temp array 2 -output array 1 = 45,57,58\n",
    "    \n",
    "    temp_array3 = set(output_array1)-set(temp_array2)\n",
    "    \n",
    "    # Step 8: merge temp array 3 and output array 2, name this array updated output array 1\n",
    "    \n",
    "    updated_output_array1 = list(temp_array3) + list(output_array2)\n",
    "    \n",
    "    # Step 9: output array 3= temp array 2 + non-unique no deleted+ Add ASR value deleted\n",
    "    \n",
    "    output_array3=list(temp_array2)+list(non_unique_no_del)+add_asr\n",
    "    \n",
    "    print(\"updated_output_array1 : \",updated_output_array1)\n",
    "    print(\"output_array2 : \",list(output_array2))\n",
    "    print(\"output_array3 : \",output_array3)\n",
    "    \n",
    "dataset1 = pd.read_csv(\"input1.csv\")\n",
    "dataset2 = pd.read_csv(\"input2.csv\")\n",
    "\n",
    "#call for Algorithm\n",
    "\n",
    "alogorithm(dataset1,dataset2)"
   ]
  },
  {
   "cell_type": "code",
   "execution_count": null,
   "metadata": {},
   "outputs": [],
   "source": []
  }
 ],
 "metadata": {
  "kernelspec": {
   "display_name": "Python 3",
   "language": "python",
   "name": "python3"
  },
  "language_info": {
   "codemirror_mode": {
    "name": "ipython",
    "version": 3
   },
   "file_extension": ".py",
   "mimetype": "text/x-python",
   "name": "python",
   "nbconvert_exporter": "python",
   "pygments_lexer": "ipython3",
   "version": "3.8.5"
  }
 },
 "nbformat": 4,
 "nbformat_minor": 4
}
